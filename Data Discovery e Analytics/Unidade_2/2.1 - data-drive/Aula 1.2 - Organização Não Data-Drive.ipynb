{
 "cells": [
  {
   "cell_type": "markdown",
   "metadata": {},
   "source": [
    "![Cinco estágios do declínio](/image/5%20estagio%20do%20fim.png)\n",
    "\n",
    "O livro **“Como as Gigantes Caem”** apresenta os **5 estágios do declínio**, destacando a importância de analisar continuamente o mercado para evitar a estagnação.\n",
    "\n",
    "Outro fator crítico é a **falta de colaboração em equipe**.  \n",
    "Quando não há uma delegação clara de atividades, a sobrecarga se torna inevitável.  \n",
    "Nesse cenário, as decisões tendem a ser tomadas com base no *feeling*, em vez de serem fundamentadas em análises de dados concretas.\n",
    "\n",
    "![Cultura orientada a dados](/image/cuturadatadrive.png)\n",
    "\n",
    "> Uma empresa orientada a dados **adquire, processa e utiliza dados em tempo hábil**  \n",
    "> para criar eficiência, iterar e desenvolver novos produtos,  \n",
    "> e navegar no cenário competitivo.  \n",
    ">\n",
    "> — DJ Patil (*Building Data Science Teams*)\n",
    "\n",
    "---\n",
    "\n",
    "## Como criar essa cultura?\n",
    "\n",
    "As melhores organizações orientadas a dados se concentram incansavelmente em **manter a qualidade e a limpeza de seus dados**.\n"
   ]
  }
 ],
 "metadata": {
  "language_info": {
   "name": "python"
  }
 },
 "nbformat": 4,
 "nbformat_minor": 2
}
