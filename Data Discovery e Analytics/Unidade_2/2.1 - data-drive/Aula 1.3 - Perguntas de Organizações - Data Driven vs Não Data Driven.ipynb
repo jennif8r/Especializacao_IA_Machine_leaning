{
 "cells": [
  {
   "cell_type": "markdown",
   "id": "bca5a118",
   "metadata": {},
   "source": [
    "# Qual a diferença de uma empresa Data-drive VS **Não** Data-Drive?\n",
    "\n",
    "## Alguns exemplos empresas ***Não Data-drive*** \n",
    "\n",
    "- Quantos itens do produto x foram vendidos no **mês passado**?\n",
    "- Como foram as vendas por região no natal do **ano passado**?\n",
    "- Quantas unidades do produto x foram devolvidas **no mes passsado?**\n",
    "- Qual foi a receita e o lucro da empresa no ** ultimo trimestre**?\n",
    "- Quantos empregados foram contratados no **ultimo ano**?"
   ]
  }
 ],
 "metadata": {
  "language_info": {
   "name": "python"
  }
 },
 "nbformat": 4,
 "nbformat_minor": 5
}
