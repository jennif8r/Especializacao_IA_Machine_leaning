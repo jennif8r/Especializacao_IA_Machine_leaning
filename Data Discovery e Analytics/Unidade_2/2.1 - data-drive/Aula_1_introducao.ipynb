{
 "cells": [
  {
   "cell_type": "markdown",
   "id": "92d78562",
   "metadata": {},
   "source": [
    "# Aula 1 - Introdução Data-Drive\n",
    "\n",
    "# O que é Data-Driven?\n",
    "\n",
    "## 1. Origem e Significado do Termo\n",
    "\n",
    "O termo **Data-Driven** vem do inglês e significa literalmente *orientado por dados*.\n",
    "\n",
    "Ele surgiu no contexto da evolução das tecnologias de informação e análise, a partir do crescimento do **uso de dados como principal guia para tomadas de decisão**, substituindo decisões baseadas apenas em experiência, opinião ou intuição.\n",
    "\n",
    "A expressão começou a ganhar força no meio acadêmico e empresarial a partir dos anos 2000, principalmente com a popularização de áreas como **Business Intelligence (BI)**, **Analytics** e, posteriormente, **Ciência de Dados**.\n",
    "\n",
    "O conceito se consolidou com autores como **Thomas Davenport** e **Jeanne Harris** (2007), que descreveram o *data-driven* como um modelo de atuação no qual dados confiáveis e analisados de forma sistemática são o núcleo das ações.\n",
    "\n",
    "Em termos simples, ser *data-driven* significa **utilizar evidências concretas extraídas de dados para guiar decisões e ações**, em vez de se basear apenas em percepções subjetivas.\n",
    "\n",
    "---\n",
    "\n",
    "## 2. Panorama Geral\n",
    "\n",
    "O uso eficaz de dados vai muito além de **escolher um banco de dados** ou **contar com uma grande equipe de cientistas de dados**. Ele resulta de uma **interação complexa** entre:\n",
    "\n",
    "- **Os dados disponíveis**.\n",
    "- **O local onde estão armazenados**.\n",
    "- **A forma como as pessoas trabalham com eles**.\n",
    "- **A clareza sobre quais problemas realmente têm valor** para serem resolvidos.\n",
    "\n",
    "Embora muitos concentrem esforços na **tecnologia**, as **melhores práticas** mostram que **as pessoas estão no centro dessa dinâmica**. Questões como **quem controla os dados**, **a quem se reportam** e **como definem suas prioridades de trabalho** têm impacto mais decisivo do que qualquer **ferramenta isolada**.\n",
    "\n",
    "O objetivo final é ampliar o acesso a dados e permitir que eles transformem a forma como interagimos com o mundo. Para isso, é necessário desenvolver uma **cultura de dados**, integrando seu uso nos processos, decisões e estratégias.\n",
    "\n",
    "---\n",
    "\n",
    "## 3. O Papel do Cientista de Dados\n",
    "\n",
    "O **cientista de dados** não é uma profissão que surgiu do nada. Historicamente, já existiam estatísticos, analistas e programadores.\n",
    "\n",
    "O que diferencia essa função é a **combinação de múltiplas competências** em uma única atuação:\n",
    "\n",
    "- **Matemática e Estatística**, especialmente estatística e álgebra linear.\n",
    "- **Computação**, incluindo programação e design de infraestrutura para análise.\n",
    "- **Comunicação**, com a capacidade de transformar análises em narrativas claras e acionáveis.\n",
    "\n",
    "O cientista de dados não vive apenas no universo dos números. Ele entende o contexto, insere suas análises em uma história maior e reconhece que **resultados só têm valor se levarem à ação**.\n",
    "\n",
    "Além das habilidades técnicas, essa profissão exige a capacidade de **fazer as perguntas certas** — algo difícil de medir, mas essencial. Isso envolve:\n",
    "\n",
    "- Conhecimento profundo do domínio de atuação.\n",
    "- Visão estratégica para identificar problemas relevantes.\n",
    "- Capacidade de relacionar dados disponíveis ao problema certo.\n",
    "\n"
   ]
  }
 ],
 "metadata": {
  "language_info": {
   "name": "python"
  }
 },
 "nbformat": 4,
 "nbformat_minor": 5
}
